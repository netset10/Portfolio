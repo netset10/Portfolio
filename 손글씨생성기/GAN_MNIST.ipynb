{
 "cells": [
  {
   "cell_type": "markdown",
   "id": "d8606cb7",
   "metadata": {},
   "source": [
    "# GAN  모델을 활용한 손글씨 발생기\n",
    "이전까지 x를 가지고 y를 도출한 것과 달리  \n",
    "GAN(Generative Adversarial Network)은 x(진짜같은 가짜)를 만드는 모델.  \n",
    "진위 판별기(Discriminator)와 이를 속이는 생성기(Generator)를 함께 학습시켜  \n",
    "생성기가 완벽한 가짜를 만들도록 학습.  \n",
    "참고 : https://neurowhai.tistory.com/103 "
   ]
  },
  {
   "cell_type": "code",
   "execution_count": 154,
   "id": "3fdf3e7a",
   "metadata": {},
   "outputs": [],
   "source": [
    "import warnings\n",
    "warnings.filterwarnings('ignore')\n",
    "import numpy as np\n",
    "import matplotlib.pyplot as plt\n",
    "import tensorflow.compat.v1 as tf\n",
    "tf.disable_v2_behavior()\n",
    "import time"
   ]
  },
  {
   "cell_type": "code",
   "execution_count": 140,
   "id": "a5faf766",
   "metadata": {},
   "outputs": [],
   "source": [
    "# 손글씨 데이터 준비\n",
    "(x_train, y_train), (x_test, y_test)=tf.keras.datasets.mnist.load_data()\n",
    "x_train=x_train.reshape([60000, 28*28])/255\n",
    "#x_train=x_train[y_train==7] # 특정 숫자만 학습\n",
    "\n",
    "\n",
    "\n",
    "# 변수\n",
    "n_input= 28*28 # 이미지 크기\n",
    "n_hidden=256\n",
    "n_noise= 128\n",
    "learning_rate=0.0005\n",
    "\n",
    "x_size=x_train.shape[0]\n",
    "batch_size=100\n",
    "\n",
    "\n",
    "# Discriminator (판별기)\n",
    "x=tf.placeholder(tf.float32, shape=[None, n_input])\n",
    "\n",
    "dw1=tf.Variable(tf.random_normal([n_input, n_hidden], stddev=0.01))  # stddev가 크면 nan 발생 가능\n",
    "db1=tf.Variable(tf.zeros([n_hidden]))\n",
    "\n",
    "dw2=tf.Variable(tf.random_normal([n_hidden, 1], stddev=0.01))\n",
    "db2=tf.Variable(tf.zeros([1]))\n",
    "\n",
    "def D(inputs):\n",
    "    hidden=tf.nn.relu(tf.matmul(inputs, dw1)+db1)\n",
    "    result=tf.nn.sigmoid(tf.matmul(hidden, dw2)+db2)\n",
    "    return result\n",
    "\n",
    "\n",
    "\n",
    "# Generator (생성기)\n",
    "z=tf.placeholder(tf.float32, shape=[None, n_noise])\n",
    "\n",
    "gw1=tf.Variable(tf.random_normal([n_noise, n_hidden], stddev=0.01))\n",
    "gb1=tf.Variable(tf.zeros([n_hidden]))\n",
    "\n",
    "gw2=tf.Variable(tf.random_normal([n_hidden, n_input], stddev=0.01))\n",
    "gb2=tf.Variable(tf.zeros([n_input]))\n",
    "\n",
    "def G(noises):\n",
    "    hidden=tf.nn.relu(tf.matmul(noises, gw1)+gb1)\n",
    "    result=tf.nn.sigmoid(tf.matmul(hidden, gw2)+gb2)\n",
    "    return result\n",
    "\n",
    "\n",
    "\n",
    "\n",
    "# 학습용\n",
    "# var_list : 학습시 정해준 Variable만 조정한다.\n",
    "loss_D=tf.reduce_mean(-tf.log(D(x)) - tf.log(1-D(G(z))))\n",
    "train_D=tf.train.AdamOptimizer(learning_rate).minimize(loss_D, var_list=[dw1, db1, dw2, db2])\n",
    "\n",
    "loss_G=tf.reduce_mean(-tf.log(D(G(z))))\n",
    "train_G=tf.train.AdamOptimizer(learning_rate).minimize(loss_G, var_list=[gw1, gb1, gw2, gb2])"
   ]
  },
  {
   "cell_type": "code",
   "execution_count": 155,
   "id": "c0143aba",
   "metadata": {
    "scrolled": false
   },
   "outputs": [
    {
     "name": "stdout",
     "output_type": "stream",
     "text": [
      "losses(D, G) :  0.06155221 3.8403382\n"
     ]
    },
    {
     "data": {
      "image/png": "[encoded data removed]",
      "text/plain": [
       "<Figure size 72x72 with 1 Axes>"
      ]
     },
     "metadata": {
      "needs_background": "light"
     },
     "output_type": "display_data"
    },
    {
     "name": "stdout",
     "output_type": "stream",
     "text": [
      "losses(D, G) :  0.69197655 2.8669443\n"
     ]
    },
    {
     "data": {
      "image/png": "[encoded data removed]",
      "text/plain": [
       "<Figure size 72x72 with 1 Axes>"
      ]
     },
     "metadata": {
      "needs_background": "light"
     },
     "output_type": "display_data"
    },
    {
     "name": "stdout",
     "output_type": "stream",
     "text": [
      "losses(D, G) :  0.74931794 1.8964319\n"
     ]
    },
    {
     "data": {
      "image/png": "[encoded data removed]",
      "text/plain": [
       "<Figure size 72x72 with 1 Axes>"
      ]
     },
     "metadata": {
      "needs_background": "light"
     },
     "output_type": "display_data"
    },
    {
     "name": "stdout",
     "output_type": "stream",
     "text": [
      "losses(D, G) :  0.78687197 2.0670817\n"
     ]
    },
    {
     "data": {
      "image/png": "[encoded data removed]",
      "text/plain": [
       "<Figure size 72x72 with 1 Axes>"
      ]
     },
     "metadata": {
      "needs_background": "light"
     },
     "output_type": "display_data"
    },
    {
     "name": "stdout",
     "output_type": "stream",
     "text": [
      "losses(D, G) :  0.6479151 2.3153596\n"
     ]
    },
    {
     "data": {
      "image/png": "[encoded data removed]",
      "text/plain": [
       "<Figure size 72x72 with 1 Axes>"
      ]
     },
     "metadata": {
      "needs_background": "light"
     },
     "output_type": "display_data"
    },
    {
     "name": "stdout",
     "output_type": "stream",
     "text": [
      "걸린 시간 : 215.79896998405457\n"
     ]
    }
   ],
   "source": [
    "# 학습\n",
    "max_epoch=81\n",
    "batch_cnt = (x_size-1)//batch_size\n",
    "\n",
    "\n",
    "sess=tf.Session()\n",
    "sess.run(tf.global_variables_initializer())\n",
    "plt.rcParams['figure.figsize']=[1,1]\n",
    "\n",
    "start=time.time()\n",
    "for epoch in range(max_epoch):\n",
    "    for i in range(batch_cnt):\n",
    "        noises=np.random.uniform(-1,1, size=[batch_size, n_noise])\n",
    "        _, loss_of_D = sess.run([train_D, loss_D], feed_dict={x:x_train[i*batch_size : (i+1)*batch_size], z:noises})\n",
    "        _, loss_of_G = sess.run([train_G, loss_G], feed_dict={z:noises})\n",
    "    \n",
    "    if epoch%(max_epoch>>2)==0: # 잘 되고 있는지 확인\n",
    "        print(\"losses(D, G) : \", loss_of_D, loss_of_G)\n",
    "        noise=np.random.uniform(-1,1, size=[1, n_noise])\n",
    "        image=sess.run(G(z), {z:noise})\n",
    "        image=image.reshape([28,28])\n",
    "        plt.imshow(image)\n",
    "        plt.show()\n",
    "print('걸린 시간 : {}'.format(time.time()-start))\n"
   ]
  },
  {
   "cell_type": "code",
   "execution_count": null,
   "id": "636fc1a1",
   "metadata": {},
   "outputs": [],
   "source": []
  },
  {
   "cell_type": "code",
   "execution_count": 196,
   "id": "0d5798be",
   "metadata": {
    "scrolled": false
   },
   "outputs": [
    {
     "data": {
      "text/plain": [
       "<matplotlib.image.AxesImage at 0x239cf94c7b8>"
      ]
     },
     "execution_count": 196,
     "metadata": {},
     "output_type": "execute_result"
    },
    {
     "data": {
      "image/png": "[encoded data removed]",
      "text/plain": [
       "<Figure size 216x216 with 1 Axes>"
      ]
     },
     "metadata": {
      "needs_background": "light"
     },
     "output_type": "display_data"
    }
   ],
   "source": [
    "# 가짜 손글씨 랜덤 발생\n",
    "plt.rcParams['figure.figsize']=[3,3]\n",
    "noise=np.random.uniform(-1,1,[1, n_noise])\n",
    "\n",
    "image=sess.run(G(z), {z:noise})\n",
    "image=image.reshape([28,28])\n",
    "plt.imshow(image)"
   ]
  },
  {
   "cell_type": "code",
   "execution_count": null,
   "id": "3cdd7ede",
   "metadata": {},
   "outputs": [],
   "source": []
  }
 ],
 "metadata": {
  "kernelspec": {
   "display_name": "Python 3",
   "language": "python",
   "name": "python3"
  },
  "language_info": {
   "codemirror_mode": {
    "name": "ipython",
    "version": 3
   },
   "file_extension": ".py",
   "mimetype": "text/x-python",
   "name": "python",
   "nbconvert_exporter": "python",
   "pygments_lexer": "ipython3",
   "version": "3.6.8"
  }
 },
 "nbformat": 4,
 "nbformat_minor": 5
}
