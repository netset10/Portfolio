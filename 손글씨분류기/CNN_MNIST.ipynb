{
 "cells": [
  {
   "cell_type": "code",
   "execution_count": 1,
   "id": "6d57953f",
   "metadata": {},
   "outputs": [
    {
     "name": "stdout",
     "output_type": "stream",
     "text": [
      "WARNING:tensorflow:From c:\\python\\lib\\site-packages\\tensorflow\\python\\compat\\v2_compat.py:101: disable_resource_variables (from tensorflow.python.ops.variable_scope) is deprecated and will be removed in a future version.\n",
      "Instructions for updating:\n",
      "non-resource variables are not supported in the long term\n"
     ]
    }
   ],
   "source": [
    "import warnings \n",
    "warnings.filterwarnings('ignore')\n",
    "import numpy as np\n",
    "import tensorflow.compat.v1 as tf\n",
    "tf.disable_v2_behavior()\n",
    "import pandas as pd\n",
    "import matplotlib.pyplot as plt\n",
    "import seaborn as sns"
   ]
  },
  {
   "cell_type": "markdown",
   "id": "71bfcf78",
   "metadata": {},
   "source": [
    "# CNN(Convolutional Neural Network) - 합성곱 신경망  \n",
    "MNIST 손글씨(숫자 0~9) 데이터 분류하기\n"
   ]
  },
  {
   "cell_type": "code",
   "execution_count": 2,
   "id": "39e5fd28",
   "metadata": {
    "scrolled": false
   },
   "outputs": [
    {
     "name": "stdout",
     "output_type": "stream",
     "text": [
      "x_train.shape : (50000, 28, 28)\n",
      "x_val.shape   : (10000, 28, 28)\n",
      "y_train.shape : (50000,)\n",
      "y_val.shape   : (10000,)\n",
      " 0  0  0  0  0  0  0  0  0  0  0  0  0  0  0  0  0  0  0  0  0  0  0  0  0  0  0  0 \n",
      " 0  0  0  0  0  0  0  0  0  0  0  0  0  0  0  0  0  0  0  0  0  0  0  0  0  0  0  0 \n",
      " 0  0  0  0  0  0  0  0  0  0  0  0  0  0  0  0  0  0  0  0  0  0  0  0  0  0  0  0 \n",
      " 0  0  0  0  0  0  0  0  0  0  0  0  0  0  0  0  0  0  0  0  0  0  0  0  0  0  0  0 \n",
      " 0  0  0  0  0  0  0  0  0  0  0  0  0  0  0  0  0  0  0  0  0  0  0  0  0  0  0  0 \n",
      " 0  0  0  0  0  0  0  0  0  0  0  0  3 12 12 12 7e 88 af 1a a6 ff f7 7f  0  0  0  0 \n",
      " 0  0  0  0  0  0  0  0 1e 24 5e 9a aa fd fd fd fd fd e1 ac fd f2 c3 40  0  0  0  0 \n",
      " 0  0  0  0  0  0  0 31 ee fd fd fd fd fd fd fd fd fb 5d 52 52 38 27  0  0  0  0  0 \n",
      " 0  0  0  0  0  0  0 12 db fd fd fd fd fd c6 b6 f7 f1  0  0  0  0  0  0  0  0  0  0 \n",
      " 0  0  0  0  0  0  0  0 50 9c 6b fd fd cd  b  0 2b 9a  0  0  0  0  0  0  0  0  0  0 \n",
      " 0  0  0  0  0  0  0  0  0  e  1 9a fd 5a  0  0  0  0  0  0  0  0  0  0  0  0  0  0 \n",
      " 0  0  0  0  0  0  0  0  0  0  0 8b fd be  2  0  0  0  0  0  0  0  0  0  0  0  0  0 \n",
      " 0  0  0  0  0  0  0  0  0  0  0  b be fd 46  0  0  0  0  0  0  0  0  0  0  0  0  0 \n",
      " 0  0  0  0  0  0  0  0  0  0  0  0 23 f1 e1 a0 6c  1  0  0  0  0  0  0  0  0  0  0 \n",
      " 0  0  0  0  0  0  0  0  0  0  0  0  0 51 f0 fd fd 77 19  0  0  0  0  0  0  0  0  0 \n",
      " 0  0  0  0  0  0  0  0  0  0  0  0  0  0 2d ba fd fd 96 1b  0  0  0  0  0  0  0  0 \n",
      " 0  0  0  0  0  0  0  0  0  0  0  0  0  0  0 10 5d fc fd bb  0  0  0  0  0  0  0  0 \n",
      " 0  0  0  0  0  0  0  0  0  0  0  0  0  0  0  0  0 f9 fd f9 40  0  0  0  0  0  0  0 \n",
      " 0  0  0  0  0  0  0  0  0  0  0  0  0  0 2e 82 b7 fd fd cf  2  0  0  0  0  0  0  0 \n",
      " 0  0  0  0  0  0  0  0  0  0  0  0 27 94 e5 fd fd fd fa b6  0  0  0  0  0  0  0  0 \n",
      " 0  0  0  0  0  0  0  0  0  0 18 72 dd fd fd fd fd c9 4e  0  0  0  0  0  0  0  0  0 \n",
      " 0  0  0  0  0  0  0  0 17 42 d5 fd fd fd fd c6 51  2  0  0  0  0  0  0  0  0  0  0 \n",
      " 0  0  0  0  0  0 12 ab db fd fd fd fd c3 50  9  0  0  0  0  0  0  0  0  0  0  0  0 \n",
      " 0  0  0  0 37 ac e2 fd fd fd fd f4 85  b  0  0  0  0  0  0  0  0  0  0  0  0  0  0 \n",
      " 0  0  0  0 88 fd fd fd d4 87 84 10  0  0  0  0  0  0  0  0  0  0  0  0  0  0  0  0 \n",
      " 0  0  0  0  0  0  0  0  0  0  0  0  0  0  0  0  0  0  0  0  0  0  0  0  0  0  0  0 \n",
      " 0  0  0  0  0  0  0  0  0  0  0  0  0  0  0  0  0  0  0  0  0  0  0  0  0  0  0  0 \n",
      " 0  0  0  0  0  0  0  0  0  0  0  0  0  0  0  0  0  0  0  0  0  0  0  0  0  0  0  0 \n"
     ]
    }
   ],
   "source": [
    "# 불러오기\n",
    "(x_train, y_train), (x_test, y_test)=tf.keras.datasets.mnist.load_data()\n",
    "\n",
    "# train data의 일부를 validation data로 만들기\n",
    "(x_train, x_val) = (x_train[:50000], x_train[50000:])\n",
    "(y_train, y_val) = (y_train[:50000], y_train[50000:])\n",
    "\n",
    "# 형태 확인\n",
    "print(\"x_train.shape :\", x_train.shape)\n",
    "print(\"x_val.shape   :\", x_val.shape)\n",
    "print(\"y_train.shape :\", y_train.shape)\n",
    "print(\"y_val.shape   :\", y_val.shape)\n",
    "\n",
    "# 손글씨 생김새 확인\n",
    "for row in x_train[0]:\n",
    "    for data in row:\n",
    "        print(\"{:2x}\".format(data), end=' ')\n",
    "    print()\n",
    "\n",
    "# reshape\n",
    "x_train=x_train.reshape((50000, 28, 28, 1))\n",
    "x_val=x_val.reshape((10000, 28, 28, 1))\n",
    "x_test=x_test.reshape((10000, 28, 28, 1))\n",
    "\n",
    "# x는 정규화 (0~255의 data를 0.0~1.0의 data로 변환)\n",
    "standardize = lambda x: x.astype('float32')/255\n",
    "x_train=standardize(x_train)\n",
    "x_val  =standardize(x_val)\n",
    "x_test =standardize(x_test)\n",
    "\n",
    "# y는 원 핫 인코딩\n",
    "n=10\n",
    "y_train=tf.keras.utils.to_categorical(y_train, n)\n",
    "y_val  =tf.keras.utils.to_categorical(y_val,   n)\n",
    "y_test =tf.keras.utils.to_categorical(y_test,  n)"
   ]
  },
  {
   "cell_type": "code",
   "execution_count": 3,
   "id": "4f976f19",
   "metadata": {},
   "outputs": [],
   "source": [
    "# 함수\n",
    "\n",
    "# Variable 생성 함수\n",
    "def Weight(shape):\n",
    "    return tf.Variable(tf.truncated_normal(shape, stddev=0.1))\n",
    "    # tf.truncated_normal() : 0에서 거리가 먼 값이 설정되지 않도록 한다. sigmoid 미분값이 너무 작아지는 경우를 방지.\n",
    "    # 대칭성을 깨뜨리고 기울기가 0이 되는 것을 방지하기 위해 가중치에 약간의 잡음을 주어 초기화 한다.\n",
    "def Bias(shape):\n",
    "    return tf.Variable(tf.constant(0.1, shape=shape))\n",
    "\n",
    "\n",
    "# 필터 생성 함수\n",
    "\n",
    "# https://bcho.tistory.com/tag/stride 참조\n",
    "# tf.nn.conv2d(필터를 적용할 이미지 데이터, 필터, strides, padding): 이미지 데이터에 필터를 적용한다.\n",
    "# stride: 필터를 움직이는 간격. 맨 앞과 맨 뒤는 통상적으로 1을 쓴다. 2번째 : 가로 스트라이드 값, 3번째 : 세로 스트라이드 값\n",
    "# padding: 패딩 적용 여부. 필터를 거치고 나온 피처 맵의 크기가 작아지는 것을 방지하고 과대적합이 발생하는 것을 방지할 수 있다.\n",
    "#     => 'SAME' : 패딩 적용 (입력값과 출력값의 크기가 같아짐)\n",
    "#     => 'VALID' : 패딩 미적용 (출력값의 크기가 작아짐)\n",
    "def conv2d(x, W_conv):\n",
    "    return tf.nn.conv2d(x, W_conv, strides=[1, 1, 1, 1], padding='SAME')\n",
    "\n",
    "# tf.nn.max_pool(맥스 풀링을 적용할 데이터, ksize, strides, padding): 맥스 풀링을 적용한다.\n",
    "# ksize: 맥스 풀링 필터의 사이즈. [1, 2, 2, 1]는 2 * 2 크기로 묶어서 풀링을 한다는 의미이다.\n",
    "def max_pool_2x2(h_conv):\n",
    "    return tf.nn.max_pool(h_conv, ksize=[1, 2, 2, 1], strides=[1, 2, 2, 1], padding='SAME')"
   ]
  },
  {
   "cell_type": "code",
   "execution_count": 4,
   "id": "f598be93",
   "metadata": {},
   "outputs": [],
   "source": [
    "# CNN 모델링\n",
    "\n",
    "x=tf.placeholder(tf.float32, shape=[None, 28, 28, 1])\n",
    "y=tf.placeholder(tf.float32, shape=[None, 10])\n",
    "\n",
    "\n",
    "\n",
    "W_conv1 = Weight([5,5,1,16]) # 5*5*1 필터(특징 추출기) 16개\n",
    "b_conv1 = Bias([16])\n",
    "h_conv1 = tf.nn.relu(conv2d(x, W_conv1) + b_conv1)\n",
    "h_pool1 = max_pool_2x2(h_conv1)\n",
    "# 풀링 레이어를 적용하여 액티베이션 맵의 크기를 줄여준다(14*14 됨). 모델의 크기가 작아지고, 과대적합의 위험도 감소한다.\n",
    "\n",
    "\n",
    "\n",
    "W_conv2 = Weight([5, 5, 16, 32]) # 필터 32개 \n",
    "b_conv2 = Bias([32])\n",
    "h_conv2 = tf.nn.relu(conv2d(h_pool1, W_conv2) + b_conv2)\n",
    "h_pool2 = max_pool_2x2(h_conv2) # 7*7 됨\n",
    "\n",
    "\n",
    "\n",
    "# FC(Fully Connected Layer)\n",
    "# FC는 컨볼루션 레이어를 통해 추출된 이미지의 특징들을 입력받아 0부터 9까지의 숫자 중 하나로 이미지를 분류한다.\n",
    "# FC 영역에는 FC1, FC2 총 2개의 히든 레이어가 존재하고, FC1은 128개의 노드, FC2에는 10개의 노드가 존재한다.\n",
    "W_fc1 = Weight([7 * 7 * 32, 128])\n",
    "b_fc1 = Bias([128])\n",
    "h_pool2_flat = tf.reshape(h_pool2, [-1, 7 * 7 * 32]) # shape에 -1을 입력하면 data 수가 유지되도록 자동으로 크기를 부여한다.\n",
    "h_fc1 = tf.nn.relu(tf.matmul(h_pool2_flat, W_fc1) + b_fc1)\n",
    "\n",
    "\n",
    "W_fc2 = Weight([128, 10])\n",
    "b_fc2 = Bias([10])\n",
    "y_pred = tf.matmul(h_fc1, W_fc2) + b_fc2\n",
    "\n",
    "\n",
    "\n",
    "# 비용함수\n",
    "cross_entropy = tf.reduce_mean(tf.nn.softmax_cross_entropy_with_logits_v2(labels=y, logits=y_pred))\n",
    "# 최적화\n",
    "optimize=tf.train.AdamOptimizer(0.001).minimize(cross_entropy)\n",
    "\n",
    "# 정확도\n",
    "correct_prediction = tf.equal(tf.argmax(y_pred, 1), tf.argmax(y, 1))\n",
    "accuracy = tf.reduce_mean(tf.cast(correct_prediction, tf.float32))"
   ]
  },
  {
   "cell_type": "code",
   "execution_count": 5,
   "id": "3b7b7327",
   "metadata": {
    "scrolled": true
   },
   "outputs": [
    {
     "name": "stdout",
     "output_type": "stream",
     "text": [
      "Epoch : 1\n",
      "  학습 정확도 : 0.94152, 검증 정확도 : 0.94810\n",
      "Epoch : 2\n",
      "  학습 정확도 : 0.96952, 검증 정확도 : 0.97210\n",
      "Epoch : 3\n",
      "  학습 정확도 : 0.97926, 검증 정확도 : 0.97830\n",
      "Epoch : 4\n",
      "  학습 정확도 : 0.98258, 검증 정확도 : 0.98110\n",
      "Epoch : 5\n",
      "  학습 정확도 : 0.98546, 검증 정확도 : 0.98310\n",
      "Epoch : 6\n",
      "  학습 정확도 : 0.98780, 검증 정확도 : 0.98430\n",
      "Epoch : 7\n",
      "  학습 정확도 : 0.98854, 검증 정확도 : 0.98480\n",
      "Epoch : 8\n",
      "  학습 정확도 : 0.98982, 검증 정확도 : 0.98510\n",
      "Epoch : 9\n",
      "  학습 정확도 : 0.99104, 검증 정확도 : 0.98560\n",
      "Epoch : 10\n",
      "  학습 정확도 : 0.99196, 검증 정확도 : 0.98540\n",
      "  검증 정확도 미갱신 1회\n",
      "Epoch : 11\n",
      "  학습 정확도 : 0.99280, 검증 정확도 : 0.98590\n",
      "Epoch : 12\n",
      "  학습 정확도 : 0.99296, 검증 정확도 : 0.98550\n",
      "  검증 정확도 미갱신 1회\n",
      "Epoch : 13\n",
      "  학습 정확도 : 0.99316, 검증 정확도 : 0.98500\n",
      "  검증 정확도 미갱신 2회\n",
      "Epoch : 14\n",
      "  학습 정확도 : 0.99228, 검증 정확도 : 0.98420\n",
      "  검증 정확도 미갱신 3회\n",
      "  조기종료\n"
     ]
    }
   ],
   "source": [
    "# 학습\n",
    "# CNN 모델을 MNIST 데이터로 학습한다. MLP에 비해 학습 속도가 매우 빠르다.\n",
    "\n",
    "\n",
    "# 하이퍼파라미터 세팅\n",
    "batch_size = 500\n",
    "iteration  = len(x_train) // batch_size\n",
    "\n",
    "epoch_cnt=20  # 학습 횟수 제한\n",
    "max_val_acc=0.0\n",
    "early_stop_count=3  # 검증 정확도가 더 이상 갱신되지 않으면 학습을 중단한다.\n",
    "current_count=0\n",
    "\n",
    "\n",
    "\n",
    "saver=tf.train.Saver()\n",
    "df_acc = pd.DataFrame(columns=['Epoch', 'Accuracy', 'type'])  # 정확도 시각화를 위해 기록\n",
    "\n",
    "with tf.Session() as sess:\n",
    "    tf.set_random_seed(42)\n",
    "    sess.run(tf.global_variables_initializer())\n",
    "    \n",
    "    # 학습\n",
    "    for epoch in range(1, epoch_cnt+1):\n",
    "        start = 0\n",
    "        end = batch_size\n",
    "        \n",
    "        for i in range(iteration):\n",
    "            optimize.run(feed_dict={x:x_train[start:end], y:y_train[start:end]})\n",
    "            start+=batch_size\n",
    "            end  +=batch_size\n",
    "            \n",
    "        \n",
    "        # 정확도 확인 & 기록\n",
    "        train_acc = accuracy.eval(feed_dict={x: x_train, y: y_train})\n",
    "        val_acc   = accuracy.eval(feed_dict={x: x_val,   y: y_val})\n",
    "        print('Epoch : {}'.format(epoch))\n",
    "        print('  학습 정확도 : {:7.5f}, 검증 정확도 : {:7.5f}'.format(train_acc, val_acc))\n",
    "        df_acc= df_acc.append({\"Epoch\":epoch, 'Accuracy':train_acc, 'type':'train'},      ignore_index=True)\n",
    "        df_acc= df_acc.append({\"Epoch\":epoch, 'Accuracy':val_acc,   'type':'validation'}, ignore_index=True)\n",
    "        \n",
    "        if val_acc > max_val_acc :\n",
    "            current_count=0\n",
    "            max_val_acc= val_acc\n",
    "            saver.save(sess, \"./model/cnn_mnist.ckpt\") # 세션 저장\n",
    "        else:\n",
    "            current_count+=1\n",
    "            print(f'  검증 정확도 미갱신 {current_count}회')\n",
    "            if current_count>=early_stop_count : \n",
    "                print('  조기종료')\n",
    "                break\n",
    "    \n",
    "    "
   ]
  },
  {
   "cell_type": "code",
   "execution_count": 6,
   "id": "7d502dfc",
   "metadata": {},
   "outputs": [
    {
     "data": {
      "text/plain": [
       "<AxesSubplot:xlabel='Epoch', ylabel='Accuracy'>"
      ]
     },
     "execution_count": 6,
     "metadata": {},
     "output_type": "execute_result"
    },
    {
     "data": {
      "image/png": "[encoded data removed]",
      "text/plain": [
       "<Figure size 432x288 with 1 Axes>"
      ]
     },
     "metadata": {
      "needs_background": "light"
     },
     "output_type": "display_data"
    }
   ],
   "source": [
    "# 정확도 변화 시각화\n",
    "sns.lineplot(data=df_acc, x='Epoch', y='Accuracy', hue='type')"
   ]
  },
  {
   "cell_type": "code",
   "execution_count": 7,
   "id": "5a72ce9d",
   "metadata": {},
   "outputs": [
    {
     "name": "stdout",
     "output_type": "stream",
     "text": [
      "INFO:tensorflow:Restoring parameters from ./model/cnn_mnist.ckpt\n",
      "테스트 정확도 : 0.98960\n"
     ]
    }
   ],
   "source": [
    "# test data로 모델 성능 확인\n",
    "\n",
    "with tf.Session() as sess:\n",
    "    saver.restore(sess, \"./model/cnn_mnist.ckpt\")\n",
    "    test_acc=accuracy.eval(feed_dict={x:x_test, y:y_test})\n",
    "    print('테스트 정확도 : {:7.5f}'.format(test_acc))"
   ]
  },
  {
   "cell_type": "code",
   "execution_count": 35,
   "id": "dcac4874",
   "metadata": {
    "scrolled": true
   },
   "outputs": [
    {
     "name": "stdout",
     "output_type": "stream",
     "text": [
      "INFO:tensorflow:Restoring parameters from ./model/cnn_mnist.ckpt\n",
      "이 손글씨는 아마도 5 입니다.\n"
     ]
    },
    {
     "data": {
      "image/png": "[encoded data removed]",
      "text/plain": [
       "<Figure size 432x288 with 1 Axes>"
      ]
     },
     "metadata": {
      "needs_background": "light"
     },
     "output_type": "display_data"
    }
   ],
   "source": [
    "# 이 부분을 반복 실행하여 모델의 정확성을 체감할 수 있습니다.\n",
    "any_number=np.random.randint(1, 10001)\n",
    "plt.imshow(x_test[any_number])\n",
    "with tf.Session() as sess:\n",
    "    saver.restore(sess, \"./model/cnn_mnist.ckpt\")\n",
    "    pred_num= sess.run(tf.argmax(y_pred,1)[0], feed_dict={x: x_test[any_number:any_number+1]})\n",
    "    print(f\"이 손글씨는 아마도 {pred_num} 입니다.\")"
   ]
  },
  {
   "cell_type": "code",
   "execution_count": null,
   "id": "ef0ffaae",
   "metadata": {},
   "outputs": [],
   "source": []
  }
 ],
 "metadata": {
  "kernelspec": {
   "display_name": "Python 3",
   "language": "python",
   "name": "python3"
  },
  "language_info": {
   "codemirror_mode": {
    "name": "ipython",
    "version": 3
   },
   "file_extension": ".py",
   "mimetype": "text/x-python",
   "name": "python",
   "nbconvert_exporter": "python",
   "pygments_lexer": "ipython3",
   "version": "3.6.8"
  }
 },
 "nbformat": 4,
 "nbformat_minor": 5
}
